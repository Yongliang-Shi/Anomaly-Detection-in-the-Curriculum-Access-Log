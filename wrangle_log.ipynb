{
 "cells": [
  {
   "cell_type": "code",
   "execution_count": 1,
   "metadata": {},
   "outputs": [],
   "source": [
    "# Import libraries\n",
    "\n",
    "import warnings\n",
    "warnings.filterwarnings(\"ignore\")\n",
    "\n",
    "import numpy as np\n",
    "import pandas as pd\n",
    "import matplotlib.pyplot as plt\n",
    "import seaborn as sns"
   ]
  },
  {
   "cell_type": "markdown",
   "metadata": {},
   "source": [
    "## Acquire the data"
   ]
  },
  {
   "cell_type": "code",
   "execution_count": 2,
   "metadata": {},
   "outputs": [
    {
     "data": {
      "text/html": [
       "<div>\n",
       "<style scoped>\n",
       "    .dataframe tbody tr th:only-of-type {\n",
       "        vertical-align: middle;\n",
       "    }\n",
       "\n",
       "    .dataframe tbody tr th {\n",
       "        vertical-align: top;\n",
       "    }\n",
       "\n",
       "    .dataframe thead th {\n",
       "        text-align: right;\n",
       "    }\n",
       "</style>\n",
       "<table border=\"1\" class=\"dataframe\">\n",
       "  <thead>\n",
       "    <tr style=\"text-align: right;\">\n",
       "      <th></th>\n",
       "      <th>0</th>\n",
       "      <th>1</th>\n",
       "      <th>2</th>\n",
       "      <th>3</th>\n",
       "      <th>4</th>\n",
       "      <th>5</th>\n",
       "    </tr>\n",
       "  </thead>\n",
       "  <tbody>\n",
       "    <tr>\n",
       "      <th>0</th>\n",
       "      <td>2018-01-26</td>\n",
       "      <td>09:55:03</td>\n",
       "      <td>/</td>\n",
       "      <td>1</td>\n",
       "      <td>8.0</td>\n",
       "      <td>97.105.19.61</td>\n",
       "    </tr>\n",
       "    <tr>\n",
       "      <th>1</th>\n",
       "      <td>2018-01-26</td>\n",
       "      <td>09:56:02</td>\n",
       "      <td>java-ii</td>\n",
       "      <td>1</td>\n",
       "      <td>8.0</td>\n",
       "      <td>97.105.19.61</td>\n",
       "    </tr>\n",
       "    <tr>\n",
       "      <th>2</th>\n",
       "      <td>2018-01-26</td>\n",
       "      <td>09:56:05</td>\n",
       "      <td>java-ii/object-oriented-programming</td>\n",
       "      <td>1</td>\n",
       "      <td>8.0</td>\n",
       "      <td>97.105.19.61</td>\n",
       "    </tr>\n",
       "    <tr>\n",
       "      <th>3</th>\n",
       "      <td>2018-01-26</td>\n",
       "      <td>09:56:06</td>\n",
       "      <td>slides/object_oriented_programming</td>\n",
       "      <td>1</td>\n",
       "      <td>8.0</td>\n",
       "      <td>97.105.19.61</td>\n",
       "    </tr>\n",
       "    <tr>\n",
       "      <th>4</th>\n",
       "      <td>2018-01-26</td>\n",
       "      <td>09:56:24</td>\n",
       "      <td>javascript-i/conditionals</td>\n",
       "      <td>2</td>\n",
       "      <td>22.0</td>\n",
       "      <td>97.105.19.61</td>\n",
       "    </tr>\n",
       "  </tbody>\n",
       "</table>\n",
       "</div>"
      ],
      "text/plain": [
       "            0         1                                    2  3     4  \\\n",
       "0  2018-01-26  09:55:03                                    /  1   8.0   \n",
       "1  2018-01-26  09:56:02                              java-ii  1   8.0   \n",
       "2  2018-01-26  09:56:05  java-ii/object-oriented-programming  1   8.0   \n",
       "3  2018-01-26  09:56:06   slides/object_oriented_programming  1   8.0   \n",
       "4  2018-01-26  09:56:24            javascript-i/conditionals  2  22.0   \n",
       "\n",
       "              5  \n",
       "0  97.105.19.61  \n",
       "1  97.105.19.61  \n",
       "2  97.105.19.61  \n",
       "3  97.105.19.61  \n",
       "4  97.105.19.61  "
      ]
     },
     "execution_count": 2,
     "metadata": {},
     "output_type": "execute_result"
    }
   ],
   "source": [
    "# Load the curriculum access\n",
    "\n",
    "df_log = pd.read_csv('anonymized-curriculum-access.txt',          \n",
    "                      engine='python',\n",
    "                      header=None,\n",
    "                      index_col=False,\n",
    "                      sep=r'\\s(?=(?:[^\"]*\"[^\"]*\")*[^\"]*$)(?![^\\[]*\\])',\n",
    "                      na_values='\"-\"',\n",
    ")\n",
    "\n",
    "df_log.head()"
   ]
  },
  {
   "cell_type": "code",
   "execution_count": 33,
   "metadata": {},
   "outputs": [
    {
     "name": "stdout",
     "output_type": "stream",
     "text": [
      "<class 'pandas.core.frame.DataFrame'>\n",
      "RangeIndex: 719459 entries, 0 to 719458\n",
      "Data columns (total 6 columns):\n",
      " #   Column         Non-Null Count   Dtype  \n",
      "---  ------         --------------   -----  \n",
      " 0   date           719459 non-null  object \n",
      " 1   time           719459 non-null  object \n",
      " 2   page_accessed  719458 non-null  object \n",
      " 3   user_id        719459 non-null  int64  \n",
      " 4   cohort_id      674619 non-null  float64\n",
      " 5   ip             719459 non-null  object \n",
      "dtypes: float64(1), int64(1), object(4)\n",
      "memory usage: 32.9+ MB\n"
     ]
    }
   ],
   "source": [
    "df_log.info()"
   ]
  },
  {
   "cell_type": "code",
   "execution_count": 7,
   "metadata": {},
   "outputs": [
    {
     "data": {
      "text/html": [
       "<div>\n",
       "<style scoped>\n",
       "    .dataframe tbody tr th:only-of-type {\n",
       "        vertical-align: middle;\n",
       "    }\n",
       "\n",
       "    .dataframe tbody tr th {\n",
       "        vertical-align: top;\n",
       "    }\n",
       "\n",
       "    .dataframe thead th {\n",
       "        text-align: right;\n",
       "    }\n",
       "</style>\n",
       "<table border=\"1\" class=\"dataframe\">\n",
       "  <thead>\n",
       "    <tr style=\"text-align: right;\">\n",
       "      <th></th>\n",
       "      <th>cohort_id</th>\n",
       "      <th>name</th>\n",
       "      <th>start_date</th>\n",
       "      <th>end_date</th>\n",
       "      <th>program_id</th>\n",
       "    </tr>\n",
       "  </thead>\n",
       "  <tbody>\n",
       "    <tr>\n",
       "      <th>0</th>\n",
       "      <td>1</td>\n",
       "      <td>Arches</td>\n",
       "      <td>2014-02-04</td>\n",
       "      <td>2014-04-22</td>\n",
       "      <td>1</td>\n",
       "    </tr>\n",
       "    <tr>\n",
       "      <th>1</th>\n",
       "      <td>2</td>\n",
       "      <td>Badlands</td>\n",
       "      <td>2014-06-04</td>\n",
       "      <td>2014-08-22</td>\n",
       "      <td>1</td>\n",
       "    </tr>\n",
       "    <tr>\n",
       "      <th>2</th>\n",
       "      <td>3</td>\n",
       "      <td>Carlsbad</td>\n",
       "      <td>2014-09-04</td>\n",
       "      <td>2014-11-05</td>\n",
       "      <td>1</td>\n",
       "    </tr>\n",
       "    <tr>\n",
       "      <th>3</th>\n",
       "      <td>4</td>\n",
       "      <td>Denali</td>\n",
       "      <td>2014-10-20</td>\n",
       "      <td>2015-01-18</td>\n",
       "      <td>1</td>\n",
       "    </tr>\n",
       "    <tr>\n",
       "      <th>4</th>\n",
       "      <td>5</td>\n",
       "      <td>Everglades</td>\n",
       "      <td>2014-11-18</td>\n",
       "      <td>2015-02-24</td>\n",
       "      <td>1</td>\n",
       "    </tr>\n",
       "  </tbody>\n",
       "</table>\n",
       "</div>"
      ],
      "text/plain": [
       "   cohort_id        name  start_date    end_date  program_id\n",
       "0          1      Arches  2014-02-04  2014-04-22           1\n",
       "1          2    Badlands  2014-06-04  2014-08-22           1\n",
       "2          3    Carlsbad  2014-09-04  2014-11-05           1\n",
       "3          4      Denali  2014-10-20  2015-01-18           1\n",
       "4          5  Everglades  2014-11-18  2015-02-24           1"
      ]
     },
     "execution_count": 7,
     "metadata": {},
     "output_type": "execute_result"
    }
   ],
   "source": [
    "# Load the cohort info\n",
    "\n",
    "df_cohort = pd.read_csv('cohorts.csv')\n",
    "df_cohort.head()"
   ]
  },
  {
   "cell_type": "code",
   "execution_count": 8,
   "metadata": {},
   "outputs": [
    {
     "name": "stdout",
     "output_type": "stream",
     "text": [
      "<class 'pandas.core.frame.DataFrame'>\n",
      "RangeIndex: 46 entries, 0 to 45\n",
      "Data columns (total 5 columns):\n",
      " #   Column      Non-Null Count  Dtype \n",
      "---  ------      --------------  ----- \n",
      " 0   cohort_id   46 non-null     int64 \n",
      " 1   name        46 non-null     object\n",
      " 2   start_date  46 non-null     object\n",
      " 3   end_date    46 non-null     object\n",
      " 4   program_id  46 non-null     int64 \n",
      "dtypes: int64(2), object(3)\n",
      "memory usage: 1.9+ KB\n"
     ]
    }
   ],
   "source": [
    "df_cohort.info()"
   ]
  },
  {
   "cell_type": "markdown",
   "metadata": {},
   "source": [
    "### Preapre the datasets for merge"
   ]
  },
  {
   "cell_type": "code",
   "execution_count": 3,
   "metadata": {},
   "outputs": [
    {
     "data": {
      "text/html": [
       "<div>\n",
       "<style scoped>\n",
       "    .dataframe tbody tr th:only-of-type {\n",
       "        vertical-align: middle;\n",
       "    }\n",
       "\n",
       "    .dataframe tbody tr th {\n",
       "        vertical-align: top;\n",
       "    }\n",
       "\n",
       "    .dataframe thead th {\n",
       "        text-align: right;\n",
       "    }\n",
       "</style>\n",
       "<table border=\"1\" class=\"dataframe\">\n",
       "  <thead>\n",
       "    <tr style=\"text-align: right;\">\n",
       "      <th></th>\n",
       "      <th>date</th>\n",
       "      <th>time</th>\n",
       "      <th>page_accessed</th>\n",
       "      <th>user_id</th>\n",
       "      <th>cohort_id</th>\n",
       "      <th>ip</th>\n",
       "    </tr>\n",
       "  </thead>\n",
       "  <tbody>\n",
       "    <tr>\n",
       "      <th>0</th>\n",
       "      <td>2018-01-26</td>\n",
       "      <td>09:55:03</td>\n",
       "      <td>/</td>\n",
       "      <td>1</td>\n",
       "      <td>8.0</td>\n",
       "      <td>97.105.19.61</td>\n",
       "    </tr>\n",
       "    <tr>\n",
       "      <th>1</th>\n",
       "      <td>2018-01-26</td>\n",
       "      <td>09:56:02</td>\n",
       "      <td>java-ii</td>\n",
       "      <td>1</td>\n",
       "      <td>8.0</td>\n",
       "      <td>97.105.19.61</td>\n",
       "    </tr>\n",
       "    <tr>\n",
       "      <th>2</th>\n",
       "      <td>2018-01-26</td>\n",
       "      <td>09:56:05</td>\n",
       "      <td>java-ii/object-oriented-programming</td>\n",
       "      <td>1</td>\n",
       "      <td>8.0</td>\n",
       "      <td>97.105.19.61</td>\n",
       "    </tr>\n",
       "    <tr>\n",
       "      <th>3</th>\n",
       "      <td>2018-01-26</td>\n",
       "      <td>09:56:06</td>\n",
       "      <td>slides/object_oriented_programming</td>\n",
       "      <td>1</td>\n",
       "      <td>8.0</td>\n",
       "      <td>97.105.19.61</td>\n",
       "    </tr>\n",
       "    <tr>\n",
       "      <th>4</th>\n",
       "      <td>2018-01-26</td>\n",
       "      <td>09:56:24</td>\n",
       "      <td>javascript-i/conditionals</td>\n",
       "      <td>2</td>\n",
       "      <td>22.0</td>\n",
       "      <td>97.105.19.61</td>\n",
       "    </tr>\n",
       "  </tbody>\n",
       "</table>\n",
       "</div>"
      ],
      "text/plain": [
       "         date      time                        page_accessed  user_id  \\\n",
       "0  2018-01-26  09:55:03                                    /        1   \n",
       "1  2018-01-26  09:56:02                              java-ii        1   \n",
       "2  2018-01-26  09:56:05  java-ii/object-oriented-programming        1   \n",
       "3  2018-01-26  09:56:06   slides/object_oriented_programming        1   \n",
       "4  2018-01-26  09:56:24            javascript-i/conditionals        2   \n",
       "\n",
       "   cohort_id            ip  \n",
       "0        8.0  97.105.19.61  \n",
       "1        8.0  97.105.19.61  \n",
       "2        8.0  97.105.19.61  \n",
       "3        8.0  97.105.19.61  \n",
       "4       22.0  97.105.19.61  "
      ]
     },
     "execution_count": 3,
     "metadata": {},
     "output_type": "execute_result"
    }
   ],
   "source": [
    "# Rename the columns in df_log\n",
    "\n",
    "df_log.columns = ['date', 'time', 'page_accessed', 'user_id', 'cohort_id', 'ip']\n",
    "df_log.head()"
   ]
  },
  {
   "cell_type": "code",
   "execution_count": 5,
   "metadata": {},
   "outputs": [
    {
     "data": {
      "text/plain": [
       "40"
      ]
     },
     "execution_count": 5,
     "metadata": {},
     "output_type": "execute_result"
    }
   ],
   "source": [
    "# How many unique cohort_id in df_log?\n",
    "df_log.cohort_id.nunique()  # only 40 unique cohort ids"
   ]
  },
  {
   "cell_type": "code",
   "execution_count": 10,
   "metadata": {},
   "outputs": [
    {
     "data": {
      "text/plain": [
       "46"
      ]
     },
     "execution_count": 10,
     "metadata": {},
     "output_type": "execute_result"
    }
   ],
   "source": [
    "# How many unique cohorts in df_cohort? should be 40\n",
    "df_cohort.cohort_id.nunique() # 46 unique cohort_ids"
   ]
  },
  {
   "cell_type": "code",
   "execution_count": 28,
   "metadata": {},
   "outputs": [
    {
     "data": {
      "text/plain": [
       "{3, 10, 20, 30, 60, 132}"
      ]
     },
     "execution_count": 28,
     "metadata": {},
     "output_type": "execute_result"
    }
   ],
   "source": [
    "# Which 6 cohort_ids are missing in df_log?\n",
    "\n",
    "log_cohort_ids = df_log.cohort_id.value_counts().index\n",
    "cohort_ids = df_cohort.cohort_id.value_counts().index\n",
    "set(cohort_ids) - set(log_cohort_ids)"
   ]
  },
  {
   "cell_type": "code",
   "execution_count": 9,
   "metadata": {},
   "outputs": [
    {
     "data": {
      "text/plain": [
       "2    26\n",
       "1    14\n",
       "3     4\n",
       "4     2\n",
       "Name: program_id, dtype: int64"
      ]
     },
     "execution_count": 9,
     "metadata": {},
     "output_type": "execute_result"
    }
   ],
   "source": [
    "# How many unique program_id in df_cohort?\n",
    "df_cohort.program_id.value_counts()"
   ]
  },
  {
   "cell_type": "markdown",
   "metadata": {},
   "source": [
    "**Takeaways**:\n",
    "- df_cohort is pretty clean and don't need a lot of cleanining. \n",
    "- do I need to convert the start and end date to timestamp?"
   ]
  },
  {
   "cell_type": "markdown",
   "metadata": {},
   "source": [
    "### Merge two datasets"
   ]
  },
  {
   "cell_type": "code",
   "execution_count": 11,
   "metadata": {},
   "outputs": [
    {
     "data": {
      "text/plain": [
       "((719459, 6), (46, 5))"
      ]
     },
     "execution_count": 11,
     "metadata": {},
     "output_type": "execute_result"
    }
   ],
   "source": [
    "# Print out the shapes of the dataframes\n",
    "df_log.shape, df_cohort.shape"
   ]
  },
  {
   "cell_type": "code",
   "execution_count": 13,
   "metadata": {},
   "outputs": [
    {
     "data": {
      "text/plain": [
       "(719459, 10)"
      ]
     },
     "execution_count": 13,
     "metadata": {},
     "output_type": "execute_result"
    }
   ],
   "source": [
    "# Left join the two datasets on cohort ids\n",
    "df = df_log.merge(df_cohort, how='left', on='cohort_id')\n",
    "\n",
    "# Print the shape\n",
    "df.shape"
   ]
  },
  {
   "cell_type": "code",
   "execution_count": 15,
   "metadata": {},
   "outputs": [
    {
     "data": {
      "text/html": [
       "<div>\n",
       "<style scoped>\n",
       "    .dataframe tbody tr th:only-of-type {\n",
       "        vertical-align: middle;\n",
       "    }\n",
       "\n",
       "    .dataframe tbody tr th {\n",
       "        vertical-align: top;\n",
       "    }\n",
       "\n",
       "    .dataframe thead th {\n",
       "        text-align: right;\n",
       "    }\n",
       "</style>\n",
       "<table border=\"1\" class=\"dataframe\">\n",
       "  <thead>\n",
       "    <tr style=\"text-align: right;\">\n",
       "      <th></th>\n",
       "      <th>date</th>\n",
       "      <th>time</th>\n",
       "      <th>page_accessed</th>\n",
       "      <th>user_id</th>\n",
       "      <th>cohort_id</th>\n",
       "      <th>ip</th>\n",
       "      <th>name</th>\n",
       "      <th>start_date</th>\n",
       "      <th>end_date</th>\n",
       "      <th>program_id</th>\n",
       "    </tr>\n",
       "  </thead>\n",
       "  <tbody>\n",
       "    <tr>\n",
       "      <th>192321</th>\n",
       "      <td>2019-02-06</td>\n",
       "      <td>11:09:35</td>\n",
       "      <td>javascript-i/introduction/working-with-data-ty...</td>\n",
       "      <td>344</td>\n",
       "      <td>29.0</td>\n",
       "      <td>97.105.19.58</td>\n",
       "      <td>Zion</td>\n",
       "      <td>2019-01-22</td>\n",
       "      <td>2019-06-04</td>\n",
       "      <td>2.0</td>\n",
       "    </tr>\n",
       "    <tr>\n",
       "      <th>667531</th>\n",
       "      <td>2020-09-11</td>\n",
       "      <td>13:31:55</td>\n",
       "      <td>toc</td>\n",
       "      <td>736</td>\n",
       "      <td>NaN</td>\n",
       "      <td>23.116.170.48</td>\n",
       "      <td>NaN</td>\n",
       "      <td>NaN</td>\n",
       "      <td>NaN</td>\n",
       "      <td>NaN</td>\n",
       "    </tr>\n",
       "    <tr>\n",
       "      <th>666111</th>\n",
       "      <td>2020-09-10</td>\n",
       "      <td>14:53:43</td>\n",
       "      <td>mysql/relationships/sub-queries</td>\n",
       "      <td>670</td>\n",
       "      <td>58.0</td>\n",
       "      <td>65.43.116.84</td>\n",
       "      <td>Hyperion</td>\n",
       "      <td>2020-05-26</td>\n",
       "      <td>2020-11-10</td>\n",
       "      <td>2.0</td>\n",
       "    </tr>\n",
       "    <tr>\n",
       "      <th>531080</th>\n",
       "      <td>2020-05-03</td>\n",
       "      <td>17:13:47</td>\n",
       "      <td>javascript-i/mapbox-api</td>\n",
       "      <td>464</td>\n",
       "      <td>31.0</td>\n",
       "      <td>104.182.14.234</td>\n",
       "      <td>Andromeda</td>\n",
       "      <td>2019-03-18</td>\n",
       "      <td>2019-07-30</td>\n",
       "      <td>2.0</td>\n",
       "    </tr>\n",
       "    <tr>\n",
       "      <th>491928</th>\n",
       "      <td>2020-03-24</td>\n",
       "      <td>11:35:01</td>\n",
       "      <td>java-i/methods</td>\n",
       "      <td>570</td>\n",
       "      <td>53.0</td>\n",
       "      <td>172.124.67.93</td>\n",
       "      <td>Fortuna</td>\n",
       "      <td>2020-01-13</td>\n",
       "      <td>2020-06-23</td>\n",
       "      <td>2.0</td>\n",
       "    </tr>\n",
       "  </tbody>\n",
       "</table>\n",
       "</div>"
      ],
      "text/plain": [
       "              date      time  \\\n",
       "192321  2019-02-06  11:09:35   \n",
       "667531  2020-09-11  13:31:55   \n",
       "666111  2020-09-10  14:53:43   \n",
       "531080  2020-05-03  17:13:47   \n",
       "491928  2020-03-24  11:35:01   \n",
       "\n",
       "                                            page_accessed  user_id  cohort_id  \\\n",
       "192321  javascript-i/introduction/working-with-data-ty...      344       29.0   \n",
       "667531                                                toc      736        NaN   \n",
       "666111                    mysql/relationships/sub-queries      670       58.0   \n",
       "531080                            javascript-i/mapbox-api      464       31.0   \n",
       "491928                                     java-i/methods      570       53.0   \n",
       "\n",
       "                    ip       name  start_date    end_date  program_id  \n",
       "192321    97.105.19.58       Zion  2019-01-22  2019-06-04         2.0  \n",
       "667531   23.116.170.48        NaN         NaN         NaN         NaN  \n",
       "666111    65.43.116.84   Hyperion  2020-05-26  2020-11-10         2.0  \n",
       "531080  104.182.14.234  Andromeda  2019-03-18  2019-07-30         2.0  \n",
       "491928   172.124.67.93    Fortuna  2020-01-13  2020-06-23         2.0  "
      ]
     },
     "execution_count": 15,
     "metadata": {},
     "output_type": "execute_result"
    }
   ],
   "source": [
    "# Take a peek at the new dataframe\n",
    "df.sample(5) # Matched"
   ]
  },
  {
   "cell_type": "code",
   "execution_count": 29,
   "metadata": {},
   "outputs": [
    {
     "data": {
      "text/plain": [
       "40"
      ]
     },
     "execution_count": 29,
     "metadata": {},
     "output_type": "execute_result"
    }
   ],
   "source": [
    "# Quick check: there should be 40 uniuqe cohort ids in the new dataframe\n",
    "df.cohort_id.nunique() # matched"
   ]
  },
  {
   "cell_type": "markdown",
   "metadata": {},
   "source": [
    "### Handle date and time columns\n",
    "- Combines access date and time and set it as the index\n",
    "- Convert the start and end dates to datetime dtypes"
   ]
  },
  {
   "cell_type": "code",
   "execution_count": 30,
   "metadata": {},
   "outputs": [
    {
     "data": {
      "text/html": [
       "<div>\n",
       "<style scoped>\n",
       "    .dataframe tbody tr th:only-of-type {\n",
       "        vertical-align: middle;\n",
       "    }\n",
       "\n",
       "    .dataframe tbody tr th {\n",
       "        vertical-align: top;\n",
       "    }\n",
       "\n",
       "    .dataframe thead th {\n",
       "        text-align: right;\n",
       "    }\n",
       "</style>\n",
       "<table border=\"1\" class=\"dataframe\">\n",
       "  <thead>\n",
       "    <tr style=\"text-align: right;\">\n",
       "      <th></th>\n",
       "      <th>page_accessed</th>\n",
       "      <th>user_id</th>\n",
       "      <th>cohort_id</th>\n",
       "      <th>ip</th>\n",
       "      <th>name</th>\n",
       "      <th>start_date</th>\n",
       "      <th>end_date</th>\n",
       "      <th>program_id</th>\n",
       "    </tr>\n",
       "    <tr>\n",
       "      <th>timestamp</th>\n",
       "      <th></th>\n",
       "      <th></th>\n",
       "      <th></th>\n",
       "      <th></th>\n",
       "      <th></th>\n",
       "      <th></th>\n",
       "      <th></th>\n",
       "      <th></th>\n",
       "    </tr>\n",
       "  </thead>\n",
       "  <tbody>\n",
       "    <tr>\n",
       "      <th>2018-01-26 09:55:03</th>\n",
       "      <td>/</td>\n",
       "      <td>1</td>\n",
       "      <td>8.0</td>\n",
       "      <td>97.105.19.61</td>\n",
       "      <td>Hampton</td>\n",
       "      <td>2015-09-22</td>\n",
       "      <td>2016-02-06</td>\n",
       "      <td>1.0</td>\n",
       "    </tr>\n",
       "    <tr>\n",
       "      <th>2018-01-26 09:56:02</th>\n",
       "      <td>java-ii</td>\n",
       "      <td>1</td>\n",
       "      <td>8.0</td>\n",
       "      <td>97.105.19.61</td>\n",
       "      <td>Hampton</td>\n",
       "      <td>2015-09-22</td>\n",
       "      <td>2016-02-06</td>\n",
       "      <td>1.0</td>\n",
       "    </tr>\n",
       "    <tr>\n",
       "      <th>2018-01-26 09:56:05</th>\n",
       "      <td>java-ii/object-oriented-programming</td>\n",
       "      <td>1</td>\n",
       "      <td>8.0</td>\n",
       "      <td>97.105.19.61</td>\n",
       "      <td>Hampton</td>\n",
       "      <td>2015-09-22</td>\n",
       "      <td>2016-02-06</td>\n",
       "      <td>1.0</td>\n",
       "    </tr>\n",
       "    <tr>\n",
       "      <th>2018-01-26 09:56:06</th>\n",
       "      <td>slides/object_oriented_programming</td>\n",
       "      <td>1</td>\n",
       "      <td>8.0</td>\n",
       "      <td>97.105.19.61</td>\n",
       "      <td>Hampton</td>\n",
       "      <td>2015-09-22</td>\n",
       "      <td>2016-02-06</td>\n",
       "      <td>1.0</td>\n",
       "    </tr>\n",
       "    <tr>\n",
       "      <th>2018-01-26 09:56:24</th>\n",
       "      <td>javascript-i/conditionals</td>\n",
       "      <td>2</td>\n",
       "      <td>22.0</td>\n",
       "      <td>97.105.19.61</td>\n",
       "      <td>Teddy</td>\n",
       "      <td>2018-01-08</td>\n",
       "      <td>2018-05-17</td>\n",
       "      <td>2.0</td>\n",
       "    </tr>\n",
       "  </tbody>\n",
       "</table>\n",
       "</div>"
      ],
      "text/plain": [
       "                                           page_accessed  user_id  cohort_id  \\\n",
       "timestamp                                                                      \n",
       "2018-01-26 09:55:03                                    /        1        8.0   \n",
       "2018-01-26 09:56:02                              java-ii        1        8.0   \n",
       "2018-01-26 09:56:05  java-ii/object-oriented-programming        1        8.0   \n",
       "2018-01-26 09:56:06   slides/object_oriented_programming        1        8.0   \n",
       "2018-01-26 09:56:24            javascript-i/conditionals        2       22.0   \n",
       "\n",
       "                               ip     name  start_date    end_date  program_id  \n",
       "timestamp                                                                       \n",
       "2018-01-26 09:55:03  97.105.19.61  Hampton  2015-09-22  2016-02-06         1.0  \n",
       "2018-01-26 09:56:02  97.105.19.61  Hampton  2015-09-22  2016-02-06         1.0  \n",
       "2018-01-26 09:56:05  97.105.19.61  Hampton  2015-09-22  2016-02-06         1.0  \n",
       "2018-01-26 09:56:06  97.105.19.61  Hampton  2015-09-22  2016-02-06         1.0  \n",
       "2018-01-26 09:56:24  97.105.19.61    Teddy  2018-01-08  2018-05-17         2.0  "
      ]
     },
     "execution_count": 30,
     "metadata": {},
     "output_type": "execute_result"
    }
   ],
   "source": [
    "# Create a new column for timestamp\n",
    "df['timestamp'] = df.date.str.cat(df.time, sep=' ')\n",
    "\n",
    "# Conver to datetime dtype\n",
    "df.timestamp = pd.to_datetime(df.timestamp)\n",
    "\n",
    "# Set the timestamp as index\n",
    "df = df.set_index('timestamp').sort_index()\n",
    "\n",
    "# Drop columns: date and time\n",
    "df.drop(columns=['date', 'time'], inplace=True)\n",
    "\n",
    "# Take peek at the df\n",
    "df.head()"
   ]
  },
  {
   "cell_type": "code",
   "execution_count": 31,
   "metadata": {},
   "outputs": [
    {
     "data": {
      "text/plain": [
       "page_accessed     object\n",
       "user_id            int64\n",
       "cohort_id        float64\n",
       "ip                object\n",
       "name              object\n",
       "start_date        object\n",
       "end_date          object\n",
       "program_id       float64\n",
       "dtype: object"
      ]
     },
     "execution_count": 31,
     "metadata": {},
     "output_type": "execute_result"
    }
   ],
   "source": [
    "# Print the dtypes of the colunms\n",
    "df.dtypes"
   ]
  },
  {
   "cell_type": "code",
   "execution_count": 32,
   "metadata": {},
   "outputs": [
    {
     "data": {
      "text/plain": [
       "page_accessed            object\n",
       "user_id                   int64\n",
       "cohort_id               float64\n",
       "ip                       object\n",
       "name                     object\n",
       "start_date       datetime64[ns]\n",
       "end_date         datetime64[ns]\n",
       "program_id              float64\n",
       "dtype: object"
      ]
     },
     "execution_count": 32,
     "metadata": {},
     "output_type": "execute_result"
    }
   ],
   "source": [
    "# Convert the start and end dates to datetime dtpye\n",
    "\n",
    "df.start_date = pd.to_datetime(df.start_date)\n",
    "df.end_date = pd.to_datetime(df.end_date)\n",
    "\n",
    "# Print the dtypes\n",
    "df.dtypes"
   ]
  },
  {
   "cell_type": "markdown",
   "metadata": {},
   "source": [
    "### Break down the page information to lessons"
   ]
  },
  {
   "cell_type": "code",
   "execution_count": null,
   "metadata": {},
   "outputs": [],
   "source": [
    "# Creat"
   ]
  }
 ],
 "metadata": {
  "kernelspec": {
   "display_name": "Python 3",
   "language": "python",
   "name": "python3"
  },
  "language_info": {
   "codemirror_mode": {
    "name": "ipython",
    "version": 3
   },
   "file_extension": ".py",
   "mimetype": "text/x-python",
   "name": "python",
   "nbconvert_exporter": "python",
   "pygments_lexer": "ipython3",
   "version": "3.7.6"
  }
 },
 "nbformat": 4,
 "nbformat_minor": 4
}
